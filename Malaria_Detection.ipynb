{
  "nbformat": 4,
  "nbformat_minor": 0,
  "metadata": {
    "colab": {
      "provenance": [],
      "gpuType": "T4"
    },
    "kernelspec": {
      "name": "python3",
      "display_name": "Python 3"
    },
    "language_info": {
      "name": "python"
    },
    "accelerator": "GPU",
    "gpuClass": "standard"
  },
  "cells": [
    {
      "cell_type": "code",
      "source": [
        "import tensorflow as tf\n",
        "import matplotlib.pyplot as plt"
      ],
      "metadata": {
        "id": "PEgsZKDhn7zl"
      },
      "execution_count": 1,
      "outputs": []
    },
    {
      "cell_type": "code",
      "source": [
        "import tensorflow_datasets as tfds"
      ],
      "metadata": {
        "id": "XEiuVZo2n0O_"
      },
      "execution_count": 2,
      "outputs": []
    },
    {
      "cell_type": "code",
      "execution_count": 35,
      "metadata": {
        "id": "oUpi4B6-nWYl"
      },
      "outputs": [],
      "source": [
        "ds, ds_info = tfds.load('malaria', with_info=True,as_supervised=True,shuffle_files=True,split=['train'])\n"
      ]
    },
    {
      "cell_type": "code",
      "source": [
        "ds,ds_info"
      ],
      "metadata": {
        "colab": {
          "base_uri": "https://localhost:8080/"
        },
        "id": "xj3ehzY1oFsQ",
        "outputId": "1652dbe1-8f88-46ee-a3e6-776c164d8747"
      },
      "execution_count": 36,
      "outputs": [
        {
          "output_type": "execute_result",
          "data": {
            "text/plain": [
              "([<_PrefetchDataset element_spec=(TensorSpec(shape=(None, None, 3), dtype=tf.uint8, name=None), TensorSpec(shape=(), dtype=tf.int64, name=None))>],\n",
              " tfds.core.DatasetInfo(\n",
              "     name='malaria',\n",
              "     full_name='malaria/1.0.0',\n",
              "     description=\"\"\"\n",
              "     The Malaria dataset contains a total of 27,558 cell images with equal instances\n",
              "     of parasitized and uninfected cells from the thin blood smear slide images of\n",
              "     segmented cells.\n",
              "     \"\"\",\n",
              "     homepage='https://lhncbc.nlm.nih.gov/publication/pub9932',\n",
              "     data_path='/root/tensorflow_datasets/malaria/1.0.0',\n",
              "     file_format=tfrecord,\n",
              "     download_size=337.08 MiB,\n",
              "     dataset_size=317.62 MiB,\n",
              "     features=FeaturesDict({\n",
              "         'image': Image(shape=(None, None, 3), dtype=uint8),\n",
              "         'label': ClassLabel(shape=(), dtype=int64, num_classes=2),\n",
              "     }),\n",
              "     supervised_keys=('image', 'label'),\n",
              "     disable_shuffling=False,\n",
              "     splits={\n",
              "         'train': <SplitInfo num_examples=27558, num_shards=4>,\n",
              "     },\n",
              "     citation=\"\"\"@article{rajaraman2018pre,\n",
              "       title={Pre-trained convolutional neural networks as feature extractors toward\n",
              "       improved malaria parasite detection in thin blood smear images},\n",
              "       author={Rajaraman, Sivaramakrishnan and Antani, Sameer K and Poostchi, Mahdieh\n",
              "       and Silamut, Kamolrat and Hossain, Md A and Maude, Richard J and Jaeger,\n",
              "       Stefan and Thoma, George R},\n",
              "       journal={PeerJ},\n",
              "       volume={6},\n",
              "       pages={e4568},\n",
              "       year={2018},\n",
              "       publisher={PeerJ Inc.}\n",
              "     }\"\"\",\n",
              " ))"
            ]
          },
          "metadata": {},
          "execution_count": 36
        }
      ]
    },
    {
      "cell_type": "code",
      "source": [
        "for image,label in ds[0].take(1):\n",
        "  print(image)\n",
        "  print('lebel',label)\n",
        "  "
      ],
      "metadata": {
        "colab": {
          "base_uri": "https://localhost:8080/"
        },
        "id": "P7lbL-17oI4q",
        "outputId": "b822e499-bdfd-4d6e-f8af-eb7d3af91c9a"
      },
      "execution_count": 84,
      "outputs": [
        {
          "output_type": "stream",
          "name": "stdout",
          "text": [
            "tf.Tensor(\n",
            "[[[0 0 0]\n",
            "  [0 0 0]\n",
            "  [0 0 0]\n",
            "  ...\n",
            "  [0 0 0]\n",
            "  [0 0 0]\n",
            "  [0 0 0]]\n",
            "\n",
            " [[0 0 0]\n",
            "  [0 0 0]\n",
            "  [0 0 0]\n",
            "  ...\n",
            "  [0 0 0]\n",
            "  [0 0 0]\n",
            "  [0 0 0]]\n",
            "\n",
            " [[0 0 0]\n",
            "  [0 0 0]\n",
            "  [0 0 0]\n",
            "  ...\n",
            "  [0 0 0]\n",
            "  [0 0 0]\n",
            "  [0 0 0]]\n",
            "\n",
            " ...\n",
            "\n",
            " [[0 0 0]\n",
            "  [0 0 0]\n",
            "  [0 0 0]\n",
            "  ...\n",
            "  [0 0 0]\n",
            "  [0 0 0]\n",
            "  [0 0 0]]\n",
            "\n",
            " [[0 0 0]\n",
            "  [0 0 0]\n",
            "  [0 0 0]\n",
            "  ...\n",
            "  [0 0 0]\n",
            "  [0 0 0]\n",
            "  [0 0 0]]\n",
            "\n",
            " [[0 0 0]\n",
            "  [0 0 0]\n",
            "  [0 0 0]\n",
            "  ...\n",
            "  [0 0 0]\n",
            "  [0 0 0]\n",
            "  [0 0 0]]], shape=(145, 148, 3), dtype=uint8)\n",
            "lebel tf.Tensor(1, shape=(), dtype=int64)\n"
          ]
        }
      ]
    },
    {
      "cell_type": "code",
      "source": [
        " "
      ],
      "metadata": {
        "id": "dPGy1p8zos43"
      },
      "execution_count": 84,
      "outputs": []
    },
    {
      "cell_type": "code",
      "source": [
        " "
      ],
      "metadata": {
        "id": "G1yphF-YpQHo"
      },
      "execution_count": 84,
      "outputs": []
    },
    {
      "cell_type": "code",
      "source": [
        " "
      ],
      "metadata": {
        "id": "LNqlRXjXxGRo"
      },
      "execution_count": 84,
      "outputs": []
    },
    {
      "cell_type": "code",
      "source": [
        "def split_train_test_val(dataset,train_ratio,val_ratio):\n",
        "  dataset_size=len(dataset)\n",
        "  train_dataset=dataset.take(int(train_ratio*dataset_size))\n",
        "  \n",
        "  train_dataset_size=len(train_dataset)\n",
        "  print(train_dataset_size)\n",
        "\n",
        "\n",
        "  val_test_dataset=dataset.skip(int(train_ratio*dataset_size))\n",
        "  val_dataset=val_test_dataset.take(int(val_ratio*dataset_size))\n",
        "   \n",
        "  val_dataset_size=len(val_dataset)\n",
        "  print(val_dataset_size)\n",
        "\n",
        "\n",
        "  test_dataset=val_test_dataset.skip(int(val_ratio*dataset_size))\n",
        "   \n",
        "  test_dataset_size=len(test_dataset)\n",
        "  print(test_dataset_size)\n",
        "\n",
        "  return train_dataset,val_dataset,test_dataset"
      ],
      "metadata": {
        "id": "3azRT65_rhrU"
      },
      "execution_count": 117,
      "outputs": []
    },
    {
      "cell_type": "code",
      "source": [
        "train_dataset,val_dataset,test_dataset=split_train_test_val(ds[0],0.8,0.1)"
      ],
      "metadata": {
        "colab": {
          "base_uri": "https://localhost:8080/"
        },
        "id": "pk_mbRepq6ou",
        "outputId": "e6d80d4a-a6e6-4799-c136-cce85d4c664c"
      },
      "execution_count": 118,
      "outputs": [
        {
          "output_type": "stream",
          "name": "stdout",
          "text": [
            "22046\n",
            "2755\n",
            "2757\n"
          ]
        }
      ]
    },
    {
      "cell_type": "code",
      "source": [
        "img_shape=224\n",
        "def resizing(img,label):\n",
        "  return tf.image.resize(img,(img_shape,img_shape))/255.0,label\n",
        "\n",
        " "
      ],
      "metadata": {
        "id": "QG_cPLVbrzGF"
      },
      "execution_count": 119,
      "outputs": []
    },
    {
      "cell_type": "code",
      "source": [
        "train_dataset=train_dataset.map(resizing)"
      ],
      "metadata": {
        "id": "5E72KwA2r1Wj"
      },
      "execution_count": 120,
      "outputs": []
    },
    {
      "cell_type": "code",
      "source": [
        "val_dataset=val_dataset.map(resizing)"
      ],
      "metadata": {
        "id": "G6a0zwDR4hC2"
      },
      "execution_count": 121,
      "outputs": []
    },
    {
      "cell_type": "code",
      "source": [],
      "metadata": {
        "id": "u96e_qvQzml1"
      },
      "execution_count": 121,
      "outputs": []
    },
    {
      "cell_type": "code",
      "source": [
        "test_dataset=test_dataset.map(resizing)"
      ],
      "metadata": {
        "id": "VgvoLpp84i8l"
      },
      "execution_count": 122,
      "outputs": []
    },
    {
      "cell_type": "code",
      "source": [
        "train_dataset,test_dataset,val_dataset"
      ],
      "metadata": {
        "colab": {
          "base_uri": "https://localhost:8080/"
        },
        "id": "c6Lqnl5JBg7a",
        "outputId": "760d8e36-0441-46a4-e765-91586a630526"
      },
      "execution_count": 123,
      "outputs": [
        {
          "output_type": "execute_result",
          "data": {
            "text/plain": [
              "(<_MapDataset element_spec=(TensorSpec(shape=(224, 224, 3), dtype=tf.float32, name=None), TensorSpec(shape=(), dtype=tf.int64, name=None))>,\n",
              " <_MapDataset element_spec=(TensorSpec(shape=(224, 224, 3), dtype=tf.float32, name=None), TensorSpec(shape=(), dtype=tf.int64, name=None))>,\n",
              " <_MapDataset element_spec=(TensorSpec(shape=(224, 224, 3), dtype=tf.float32, name=None), TensorSpec(shape=(), dtype=tf.int64, name=None))>)"
            ]
          },
          "metadata": {},
          "execution_count": 123
        }
      ]
    },
    {
      "cell_type": "code",
      "source": [
        "for image,label in test_dataset.take(1):\n",
        "  print(image,label)"
      ],
      "metadata": {
        "colab": {
          "base_uri": "https://localhost:8080/"
        },
        "id": "9MZb3wyur9lI",
        "outputId": "49303216-4756-4bec-bf77-71a88ff4e22e"
      },
      "execution_count": 92,
      "outputs": [
        {
          "output_type": "stream",
          "name": "stdout",
          "text": [
            "tf.Tensor(\n",
            "[[[0. 0. 0.]\n",
            "  [0. 0. 0.]\n",
            "  [0. 0. 0.]\n",
            "  ...\n",
            "  [0. 0. 0.]\n",
            "  [0. 0. 0.]\n",
            "  [0. 0. 0.]]\n",
            "\n",
            " [[0. 0. 0.]\n",
            "  [0. 0. 0.]\n",
            "  [0. 0. 0.]\n",
            "  ...\n",
            "  [0. 0. 0.]\n",
            "  [0. 0. 0.]\n",
            "  [0. 0. 0.]]\n",
            "\n",
            " [[0. 0. 0.]\n",
            "  [0. 0. 0.]\n",
            "  [0. 0. 0.]\n",
            "  ...\n",
            "  [0. 0. 0.]\n",
            "  [0. 0. 0.]\n",
            "  [0. 0. 0.]]\n",
            "\n",
            " ...\n",
            "\n",
            " [[0. 0. 0.]\n",
            "  [0. 0. 0.]\n",
            "  [0. 0. 0.]\n",
            "  ...\n",
            "  [0. 0. 0.]\n",
            "  [0. 0. 0.]\n",
            "  [0. 0. 0.]]\n",
            "\n",
            " [[0. 0. 0.]\n",
            "  [0. 0. 0.]\n",
            "  [0. 0. 0.]\n",
            "  ...\n",
            "  [0. 0. 0.]\n",
            "  [0. 0. 0.]\n",
            "  [0. 0. 0.]]\n",
            "\n",
            " [[0. 0. 0.]\n",
            "  [0. 0. 0.]\n",
            "  [0. 0. 0.]\n",
            "  ...\n",
            "  [0. 0. 0.]\n",
            "  [0. 0. 0.]\n",
            "  [0. 0. 0.]]], shape=(224, 224, 3), dtype=float32) tf.Tensor(0, shape=(), dtype=int64)\n"
          ]
        }
      ]
    },
    {
      "cell_type": "code",
      "source": [
        "Batch_size=32\n",
        "train_dataset=train_dataset.shuffle(buffer_size=8).batch(Batch_size).prefetch(tf.data.AUTOTUNE)\n"
      ],
      "metadata": {
        "id": "KhxU9_eVz76V"
      },
      "execution_count": 124,
      "outputs": []
    },
    {
      "cell_type": "code",
      "source": [
        "val_dataset=val_dataset.shuffle(buffer_size=8).batch(Batch_size).prefetch(tf.data.AUTOTUNE)"
      ],
      "metadata": {
        "id": "imYgmd_J1VTM"
      },
      "execution_count": 125,
      "outputs": []
    },
    {
      "cell_type": "code",
      "source": [
        " "
      ],
      "metadata": {
        "id": "loo5Zyi75RVd"
      },
      "execution_count": 125,
      "outputs": []
    },
    {
      "cell_type": "code",
      "source": [
        "train_dataset,test_dataset,val_dataset"
      ],
      "metadata": {
        "colab": {
          "base_uri": "https://localhost:8080/"
        },
        "id": "2Hl3QaSTBI0I",
        "outputId": "aac6b8fb-2591-4d44-e20d-0f771155ddca"
      },
      "execution_count": 126,
      "outputs": [
        {
          "output_type": "execute_result",
          "data": {
            "text/plain": [
              "(<_PrefetchDataset element_spec=(TensorSpec(shape=(None, 224, 224, 3), dtype=tf.float32, name=None), TensorSpec(shape=(None,), dtype=tf.int64, name=None))>,\n",
              " <_MapDataset element_spec=(TensorSpec(shape=(224, 224, 3), dtype=tf.float32, name=None), TensorSpec(shape=(), dtype=tf.int64, name=None))>,\n",
              " <_PrefetchDataset element_spec=(TensorSpec(shape=(None, 224, 224, 3), dtype=tf.float32, name=None), TensorSpec(shape=(None,), dtype=tf.int64, name=None))>)"
            ]
          },
          "metadata": {},
          "execution_count": 126
        }
      ]
    },
    {
      "cell_type": "code",
      "source": [
        "model=tf.keras.Sequential()"
      ],
      "metadata": {
        "id": "zZUxS-Xq1Xx0"
      },
      "execution_count": 97,
      "outputs": []
    },
    {
      "cell_type": "code",
      "source": [
        "model.add(tf.keras.layers.Conv2D(8,3,input_shape=(224,224,3)))\n",
        "model.add(tf.keras.layers.Flatten())\n",
        "model.add(tf.keras.layers.Dense(10,activation='tanh'))"
      ],
      "metadata": {
        "id": "bsXFwZtV1tYT"
      },
      "execution_count": 98,
      "outputs": []
    },
    {
      "cell_type": "code",
      "source": [
        "model.add(tf.keras.layers.Dense(80,activation='relu'))"
      ],
      "metadata": {
        "id": "XHqnwibc17ZE"
      },
      "execution_count": 99,
      "outputs": []
    },
    {
      "cell_type": "code",
      "source": [
        "model.add(tf.keras.layers.BatchNormalization())"
      ],
      "metadata": {
        "id": "z1CTvOJu5pxs"
      },
      "execution_count": 100,
      "outputs": []
    },
    {
      "cell_type": "code",
      "source": [
        "model.add(tf.keras.layers.Dense(810,activation='sigmoid'))"
      ],
      "metadata": {
        "id": "D5ZAdpRK2CEQ"
      },
      "execution_count": 101,
      "outputs": []
    },
    {
      "cell_type": "code",
      "source": [
        "model.add(tf.keras.layers.Dense(10,activation='tanh'))"
      ],
      "metadata": {
        "id": "Xfuph8rt2Kx3"
      },
      "execution_count": 102,
      "outputs": []
    },
    {
      "cell_type": "code",
      "source": [
        "model.add(tf.keras.layers.Dense(1,activation='sigmoid'))"
      ],
      "metadata": {
        "id": "oKes12zZ2OwT"
      },
      "execution_count": 103,
      "outputs": []
    },
    {
      "cell_type": "code",
      "source": [
        "model.summary()"
      ],
      "metadata": {
        "colab": {
          "base_uri": "https://localhost:8080/"
        },
        "id": "6B8arWjT2kTD",
        "outputId": "46e0b8cf-cd92-4f0a-87d1-71f4c4051b6a"
      },
      "execution_count": 104,
      "outputs": [
        {
          "output_type": "stream",
          "name": "stdout",
          "text": [
            "Model: \"sequential_2\"\n",
            "_________________________________________________________________\n",
            " Layer (type)                Output Shape              Param #   \n",
            "=================================================================\n",
            " conv2d_2 (Conv2D)           (None, 222, 222, 8)       224       \n",
            "                                                                 \n",
            " flatten_2 (Flatten)         (None, 394272)            0         \n",
            "                                                                 \n",
            " dense_10 (Dense)            (None, 10)                3942730   \n",
            "                                                                 \n",
            " dense_11 (Dense)            (None, 80)                880       \n",
            "                                                                 \n",
            " batch_normalization_2 (Batc  (None, 80)               320       \n",
            " hNormalization)                                                 \n",
            "                                                                 \n",
            " dense_12 (Dense)            (None, 810)               65610     \n",
            "                                                                 \n",
            " dense_13 (Dense)            (None, 10)                8110      \n",
            "                                                                 \n",
            " dense_14 (Dense)            (None, 1)                 11        \n",
            "                                                                 \n",
            "=================================================================\n",
            "Total params: 4,017,885\n",
            "Trainable params: 4,017,725\n",
            "Non-trainable params: 160\n",
            "_________________________________________________________________\n"
          ]
        }
      ]
    },
    {
      "cell_type": "code",
      "source": [
        "model.compile(loss='binary_crossentropy',optimizer='adam',metrics='accuracy')"
      ],
      "metadata": {
        "id": "1wkrA5lh2rzy"
      },
      "execution_count": 105,
      "outputs": []
    },
    {
      "cell_type": "code",
      "source": [
        "model.fit(train_dataset,validation_data=val_dataset,epochs=2)"
      ],
      "metadata": {
        "colab": {
          "base_uri": "https://localhost:8080/"
        },
        "id": "FPXQhhrE3GZB",
        "outputId": "c56a63a8-4909-4cc0-95d8-7a7850fe86df"
      },
      "execution_count": 106,
      "outputs": [
        {
          "output_type": "stream",
          "name": "stdout",
          "text": [
            "Epoch 1/2\n",
            "689/689 [==============================] - 50s 69ms/step - loss: 0.6944 - accuracy: 0.4975 - val_loss: 0.6936 - val_accuracy: 0.4962\n",
            "Epoch 2/2\n",
            "689/689 [==============================] - 44s 64ms/step - loss: 0.6934 - accuracy: 0.4969 - val_loss: 0.6937 - val_accuracy: 0.4933\n"
          ]
        },
        {
          "output_type": "execute_result",
          "data": {
            "text/plain": [
              "<keras.callbacks.History at 0x7f6b7c895eb0>"
            ]
          },
          "metadata": {},
          "execution_count": 106
        }
      ]
    },
    {
      "cell_type": "code",
      "source": [
        "test_data=test_dataset.batch(1)"
      ],
      "metadata": {
        "id": "MeTXwmgx3LnU"
      },
      "execution_count": 130,
      "outputs": []
    },
    {
      "cell_type": "code",
      "source": [
        "len(test_data)"
      ],
      "metadata": {
        "colab": {
          "base_uri": "https://localhost:8080/"
        },
        "id": "ImkWuERUAnfk",
        "outputId": "ab90386b-d1c5-4b54-de2c-87b75ceaa4c0"
      },
      "execution_count": 131,
      "outputs": [
        {
          "output_type": "execute_result",
          "data": {
            "text/plain": [
              "2757"
            ]
          },
          "metadata": {},
          "execution_count": 131
        }
      ]
    },
    {
      "cell_type": "code",
      "source": [
        "model.evaluate(test_data)[1]"
      ],
      "metadata": {
        "colab": {
          "base_uri": "https://localhost:8080/"
        },
        "id": "di-FBG1FAKYi",
        "outputId": "626984d1-0462-4998-ff7d-e7924049a3f8"
      },
      "execution_count": 76,
      "outputs": [
        {
          "output_type": "stream",
          "name": "stdout",
          "text": [
            "1/1 [==============================] - 12s 12s/step - loss: 0.6921 - accuracy: 0.5312\n"
          ]
        }
      ]
    },
    {
      "cell_type": "code",
      "source": [
        "parasite(x)"
      ],
      "metadata": {
        "colab": {
          "base_uri": "https://localhost:8080/"
        },
        "id": "Pzzd5MYIE2Sh",
        "outputId": "24145c07-2900-4d48-e6b1-f9c6a22150c6"
      },
      "execution_count": 80,
      "outputs": [
        {
          "output_type": "stream",
          "name": "stdout",
          "text": [
            "Negative\n"
          ]
        }
      ]
    },
    {
      "cell_type": "code",
      "source": [
        "model.save('model1')"
      ],
      "metadata": {
        "colab": {
          "base_uri": "https://localhost:8080/"
        },
        "id": "k-7trHM8FOX1",
        "outputId": "703e1eea-617a-4ad9-972b-1bbba4588898"
      },
      "execution_count": 109,
      "outputs": [
        {
          "output_type": "stream",
          "name": "stderr",
          "text": [
            "WARNING:absl:Found untraced functions such as _jit_compiled_convolution_op while saving (showing 1 of 1). These functions will not be directly callable after loading.\n"
          ]
        }
      ]
    },
    {
      "cell_type": "code",
      "source": [
        "model=tf.keras.models.load_model('model1')"
      ],
      "metadata": {
        "id": "Xm_r-WBoGen_"
      },
      "execution_count": 110,
      "outputs": []
    },
    {
      "cell_type": "code",
      "source": [
        "x=model.predict(test_data.take(1))"
      ],
      "metadata": {
        "colab": {
          "base_uri": "https://localhost:8080/"
        },
        "id": "GcRwFGbHGvLx",
        "outputId": "ee87b6d6-c51b-4e8c-f8d5-d49d758a40ac"
      },
      "execution_count": 133,
      "outputs": [
        {
          "output_type": "stream",
          "name": "stdout",
          "text": [
            "1/1 [==============================] - 13s 13s/step\n"
          ]
        }
      ]
    },
    {
      "cell_type": "code",
      "source": [
        "x=x[0][0]"
      ],
      "metadata": {
        "id": "0mTdL30hHEuX"
      },
      "execution_count": 135,
      "outputs": []
    },
    {
      "cell_type": "code",
      "source": [
        "def parasite(x):\n",
        "  if x<0.5:\n",
        "    return print('ppsitive')\n",
        "  else:\n",
        "    return print('Negative')  "
      ],
      "metadata": {
        "id": "zrCb01cqASuD"
      },
      "execution_count": 136,
      "outputs": []
    },
    {
      "cell_type": "code",
      "source": [
        "parasite(x)"
      ],
      "metadata": {
        "colab": {
          "base_uri": "https://localhost:8080/"
        },
        "id": "ALZvFyDjIOqx",
        "outputId": "ba2ac161-9dd8-480d-8979-cafe44099944"
      },
      "execution_count": 137,
      "outputs": [
        {
          "output_type": "stream",
          "name": "stdout",
          "text": [
            "ppsitive\n"
          ]
        }
      ]
    },
    {
      "cell_type": "code",
      "source": [],
      "metadata": {
        "id": "U70UIDx-MZ6u"
      },
      "execution_count": null,
      "outputs": []
    }
  ]
}